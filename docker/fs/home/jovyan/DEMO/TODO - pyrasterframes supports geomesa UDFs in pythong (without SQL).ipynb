{
 "cells": [
  {
   "cell_type": "code",
   "execution_count": 5,
   "metadata": {},
   "outputs": [
    {
     "name": "stdout",
     "output_type": "stream",
     "text": [
      "Error setting up SparkSession; cannot find the pyrasterframes assembly jar\n",
      " 'JavaPackage' object is not callable\n"
     ]
    }
   ],
   "source": [
    "from pyrasterframes.rasterfunctions import *\n",
    "from pyrasterframes.utils import create_rf_spark_session\n",
    "\n",
    "#import geomesa_pyspark\n",
    "#from pyspark.sql import Row\n",
    "\n",
    "#conf = geomesa_pyspark.configure().setAppName('Demo1')\n",
    " \n",
    "# from pyspark.sql import SparkSession\n",
    "\n",
    "spark = create_rf_spark_session()\n",
    "\n",
    "# spark = SparkSession.builder.enableHiveSupport().getOrCreate()\n",
    "# sc = spark.sparkContext\n",
    "\n",
    "# # geomesa_pyspark.init_sql(spark) in later version 2.4 DOCS)\n",
    "# spark._jvm.org.apache.spark.sql.SQLTypes.init(spark._jwrapped)\n",
    "\n",
    "# from pyrasterframes.utils import create_rf_spark_session\n"
   ]
  },
  {
   "cell_type": "code",
   "execution_count": 4,
   "metadata": {},
   "outputs": [
    {
     "ename": "AttributeError",
     "evalue": "'NoneType' object has no attribute 'SpackContext'",
     "output_type": "error",
     "traceback": [
      "\u001b[0;31m---------------------------------------------------------------------------\u001b[0m",
      "\u001b[0;31mAttributeError\u001b[0m                            Traceback (most recent call last)",
      "\u001b[0;32m<ipython-input-4-10aca29d54fc>\u001b[0m in \u001b[0;36m<module>\u001b[0;34m\u001b[0m\n\u001b[0;32m----> 1\u001b[0;31m \u001b[0mspark\u001b[0m\u001b[0;34m.\u001b[0m\u001b[0mSpackContext\u001b[0m\u001b[0;34m\u001b[0m\u001b[0;34m\u001b[0m\u001b[0m\n\u001b[0m",
      "\u001b[0;31mAttributeError\u001b[0m: 'NoneType' object has no attribute 'SpackContext'"
     ]
    }
   ],
   "source": [
    "spark.SpackContext"
   ]
  },
  {
   "cell_type": "code",
   "execution_count": null,
   "metadata": {},
   "outputs": [],
   "source": []
  }
 ],
 "metadata": {
  "kernelspec": {
   "display_name": "Python 3",
   "language": "python",
   "name": "python3"
  },
  "language_info": {
   "codemirror_mode": {
    "name": "ipython",
    "version": 3
   },
   "file_extension": ".py",
   "mimetype": "text/x-python",
   "name": "python",
   "nbconvert_exporter": "python",
   "pygments_lexer": "ipython3",
   "version": "3.7.3"
  }
 },
 "nbformat": 4,
 "nbformat_minor": 4
}
