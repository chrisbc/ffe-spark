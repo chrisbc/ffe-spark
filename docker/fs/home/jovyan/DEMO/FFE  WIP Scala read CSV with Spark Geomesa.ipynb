{
 "cells": [
  {
   "cell_type": "code",
   "execution_count": 1,
   "metadata": {},
   "outputs": [],
   "source": [
    "import org.locationtech.jts.geom._\n",
    "import org.apache.spark.sql.types._\n",
    "import org.locationtech.geomesa.spark.jts._"
   ]
  },
  {
   "cell_type": "code",
   "execution_count": 47,
   "metadata": {},
   "outputs": [
    {
     "data": {
      "text/plain": [
       "spark2 = org.apache.spark.sql.SparkSession@f6c545\n",
       "schema = StructType(StructField(TARGET_FID,LongType,false), StructField(suburb_location,StringType,false), StructField(Combustible,BooleanType,false), StructField(SHAPE_Length,DoubleType,false), StructField(SHAPE_Area,DoubleType,false), StructField(AU2013Num,LongType,false), StructField(IgnProb,DoubleType,false), StructField(RandProb,DoubleType,false), StructField(polygonText,StringType,false))\n"
      ]
     },
     "metadata": {},
     "output_type": "display_data"
    },
    {
     "data": {
      "text/plain": [
       "StructType(StructField(TARGET_FID,LongType,false), StructField(suburb_location,StringType,false), StructField(Combustible,BooleanType,false), StructField(SHAPE_Length,DoubleType,false), StructField(SHAPE_Area,DoubleType,false), StructField(AU2013Num,LongType,false), StructField(IgnProb,DoubleType,false), StructField(RandProb,DoubleType,false), StructField(polygonText,StringType,false))"
      ]
     },
     "execution_count": 47,
     "metadata": {},
     "output_type": "execute_result"
    }
   ],
   "source": [
    "// import spark.implicits._\n",
    "// below hack\n",
    "val spark2: SparkSession = spark\n",
    "import spark2.implicits._\n",
    "\n",
    "//,TARGET_FID,suburb_loc,Combustibl,SHAPE_Leng,SHAPE_Area,AU2013Num,IgnProb_bl,RandProb,geometry\n",
    "/*\n",
    "Data columns (total 9 columns):\n",
    "TARGET_FID    1758 non-null int64\n",
    "suburb_loc    1758 non-null object\n",
    "Combustibl    1758 non-null int64\n",
    "SHAPE_Leng    1758 non-null float64\n",
    "SHAPE_Area    1758 non-null float64\n",
    "AU2013Num     1758 non-null int64\n",
    "IgnProb_bl    1758 non-null float64\n",
    "RandProb      1758 non-null float64\n",
    "geometry      1758 non-null geometry\n",
    "*/\n",
    "val schema = StructType(Array(\n",
    "  StructField(\"TARGET_FID\",LongType, nullable=false),\n",
    "  StructField(\"suburb_location\", StringType, nullable=false),\n",
    "  StructField(\"Combustible\", BooleanType, nullable=false),\n",
    "  StructField(\"SHAPE_Length\", DoubleType, nullable=false),\n",
    "  StructField(\"SHAPE_Area\", DoubleType, nullable=false),\n",
    "  StructField(\"AU2013Num\", LongType, nullable=false),\n",
    "  StructField(\"IgnProb\", DoubleType, nullable=false),\n",
    "  StructField(\"RandProb\", DoubleType, nullable=false),\n",
    "  StructField(\"polygonText\", StringType, nullable=false)))\n",
    "\n"
   ]
  },
  {
   "cell_type": "code",
   "execution_count": 198,
   "metadata": {},
   "outputs": [
    {
     "data": {
      "text/plain": [
       "filename = file:///home/jovyan/DEMO/gdf_polygon_1200.csv\n",
       "df = [_c0: int, TARGET_FID: int ... 14 more fields]\n"
      ]
     },
     "metadata": {},
     "output_type": "display_data"
    },
    {
     "data": {
      "text/plain": [
       "[_c0: int, TARGET_FID: int ... 14 more fields]"
      ]
     },
     "execution_count": 198,
     "metadata": {},
     "output_type": "execute_result"
    }
   ],
   "source": [
    "val filename = \"file:///home/jovyan/DEMO/gdf_polygon_1200.csv\"\n",
    "// val dataFile = this.getClass.getClassLoader.getResource(filename).getPath\n",
    "val df = spark2.read\n",
    "    .option(\"timestampFormat\", \"yyyy/MM/dd HH:mm:ss ZZ\")\n",
    "    .option(\"header\", true)\n",
    "    .option(\"inferSchema\", \"true\")    \n",
    "    .csv(filename)\n",
    "//.schema(schema)\n",
    "    "
   ]
  },
  {
   "cell_type": "code",
   "execution_count": 199,
   "metadata": {},
   "outputs": [
    {
     "data": {
      "text/plain": [
       "Array(_c0, TARGET_FID, suburb_loc, Combustibl, SHAPE_Leng, SHAPE_Area, AU2013Num, IgnProb_bl, RandProb, geometry, area, centroid, X, Y, d_short, d_long)"
      ]
     },
     "execution_count": 199,
     "metadata": {},
     "output_type": "execute_result"
    }
   ],
   "source": [
    "df.columns"
   ]
  },
  {
   "cell_type": "code",
   "execution_count": 200,
   "metadata": {},
   "outputs": [
    {
     "data": {
      "text/plain": [
       "alteredDF = [_c0: int, TARGET_FID: int ... 15 more fields]\n"
      ]
     },
     "metadata": {},
     "output_type": "display_data"
    },
    {
     "data": {
      "text/plain": [
       "[_c0: int, TARGET_FID: int ... 15 more fields]"
      ]
     },
     "execution_count": 200,
     "metadata": {},
     "output_type": "execute_result"
    }
   ],
   "source": [
    "//df.show()\n",
    "//df.count()\n",
    "\n",
    "spark.withJTS\n",
    "\n",
    "val alteredDF = df\n",
    "    .withColumn(\"polygon\", st_polygonFromText($\"geometry\"))\n",
    "    .withColumn(\"centroid\", st_makePoint($\"X\", $\"Y\"))\n",
    "\n",
    "\n"
   ]
  },
  {
   "cell_type": "code",
   "execution_count": 201,
   "metadata": {},
   "outputs": [
    {
     "name": "stdout",
     "output_type": "stream",
     "text": [
      "+---+----------+----------+----------+------------------+------------------+---------+----------------+-----------------+--------------------+------------------+--------------------+------------------+------------------+-------+------+--------------------+\n",
      "|_c0|TARGET_FID|suburb_loc|Combustibl|        SHAPE_Leng|        SHAPE_Area|AU2013Num|      IgnProb_bl|         RandProb|            geometry|              area|            centroid|                 X|                 Y|d_short|d_long|             polygon|\n",
      "+---+----------+----------+----------+------------------+------------------+---------+----------------+-----------------+--------------------+------------------+--------------------+------------------+------------------+-------+------+--------------------+\n",
      "|  0|     58152|    Karori|         1| 91.54329378070867|268.44508528391873|   575000|5.06607709467E-4|0.887780267427702|POLYGON ((1745723...|268.44508528391873|POINT (1745708.76...|1745708.7626952266| 5428056.083294064|    0.0|   inf|POLYGON ((1745723...|\n",
      "|  1|      5477|    Karori|         0|19.628321187589542| 21.93467778056936|   575100|3.51929631982E-4|0.322841785464081|POLYGON ((1745649...| 21.93467778056936|POINT (1745652.53...| 1745652.532815956| 5427740.363518546|    0.0|   inf|POLYGON ((1745649...|\n",
      "|  2|     51374|    Karori|         1| 77.36143699397552| 239.1706558800737|   575000|5.06607709467E-4|0.913913043738054|POLYGON ((1746191...| 239.1706558800737|POINT (1746195.05...|1746195.0530502293| 5427985.734522967|    0.0|   inf|POLYGON ((1746191...|\n",
      "|  3|      5478|    Karori|         1| 76.85774217439389|220.78876462285473|   575100|3.51929631982E-4|0.959233796075732|POLYGON ((1745700...|220.78876462285473|POINT (1745684.19...| 1745684.194342308| 5427602.138345038|    0.0|   inf|POLYGON ((1745700...|\n",
      "|  4|     58153|    Karori|         1| 71.42453047325101|219.90567996283642|   575000|5.06607709467E-4|0.661238979713922|POLYGON ((1745714...|219.90567996283642|POINT (1745710.33...|1745710.3367916616| 5428035.235370561|    0.0|   inf|POLYGON ((1745714...|\n",
      "|  5|      5479|    Karori|         1| 51.97591697451297| 142.9583198411209|   575100|3.51929631982E-4|0.171759943447374|POLYGON ((1745674...| 142.9583198411209|POINT (1745683.39...| 1745683.391792311| 5427616.884848187|    0.0|   inf|POLYGON ((1745674...|\n",
      "|  6|     51375|    Karori|         1|   21.277693314567|23.890130406831645|   575000|5.06607709467E-4|0.801625144805831|POLYGON ((1746183...|23.890130406831645|POINT (1746186.84...|1746186.8411587114|5427996.4278080575|    0.0|   inf|POLYGON ((1746183...|\n",
      "|  7|      5480|    Karori|         1|25.769973448229976| 39.84906750173582|   575100|3.51929631982E-4|0.300843222903227|POLYGON ((1745681...| 39.84906750173582|POINT (1745686.47...|1745686.4744348666| 5427642.380608064|    0.0|   inf|POLYGON ((1745681...|\n",
      "|  8|     58154|    Karori|         1|42.985262869974655|110.66050202559086|   575000|5.06607709467E-4|0.361976008879356|POLYGON ((1745740...|110.66050202559086|POINT (1745746.79...|1745746.7946155705| 5428051.458894832|    0.0|   inf|POLYGON ((1745740...|\n",
      "|  9|      5481|    Karori|         1| 62.20116857662353|196.17980919449565|   575100|3.51929631982E-4|0.844316410152313|POLYGON ((1745652...|196.17980919449565|POINT (1745660.60...|1745660.6090637182| 5427659.866465285|    0.0|   inf|POLYGON ((1745652...|\n",
      "| 10|     51376|    Karori|         1|34.913317450723476| 67.09970878689944|   575000|5.06607709467E-4|0.601490489345159|POLYGON ((1746189...| 67.09970878689944|POINT (1746192.04...| 1746192.041525405| 5428031.042856979|    0.0|   inf|POLYGON ((1746189...|\n",
      "| 11|      5482|    Karori|         1|  66.1095435778618|185.05462324980726|   575100|3.51929631982E-4|0.225706077404651|POLYGON ((1745669...|185.05462324980726|POINT (1745658.12...|1745658.1230854467| 5427674.307006127|    0.0|   inf|POLYGON ((1745669...|\n",
      "| 12|     58155|    Karori|         1| 56.16514888187331|150.72150494332038|   575000|5.06607709467E-4|0.421640543291173|POLYGON ((1745739...|150.72150494332038|POINT (1745748.64...|1745748.6495584282| 5428021.350783869|    0.0|   inf|POLYGON ((1745739...|\n",
      "| 13|      5483|    Karori|         1|  62.3416897906512| 162.3921703373677|   575100|3.51929631982E-4|0.812164380188914|POLYGON ((1745643...| 162.3921703373677|POINT (1745651.81...| 1745651.810717597| 5427686.945492816|    0.0|   inf|POLYGON ((1745643...|\n",
      "| 14|     51377|    Karori|         1|57.524108117652716|176.56587161510242|   575000|5.06607709467E-4|0.359026754293788|POLYGON ((1746177...|176.56587161510242|POINT (1746176.21...| 1746176.211299909| 5428002.246484985|    0.0|   inf|POLYGON ((1746177...|\n",
      "| 15|      5484|    Karori|         1| 69.75591773425433|243.58469989426771|   575100|3.51929631982E-4|0.642228108656305|POLYGON ((1745633...|243.58469989426771|POINT (1745646.05...|1745646.0506534094|  5427700.77490849|    0.0|   inf|POLYGON ((1745633...|\n",
      "| 16|     58156|    Karori|         1| 61.30202873647862|  187.968693050144|   575000|5.06607709467E-4|0.275896780232206|POLYGON ((1745720...|  187.968693050144|POINT (1745712.62...|1745712.6242292123| 5428008.229451518|    0.0|   inf|POLYGON ((1745720...|\n",
      "| 17|      5485|    Karori|         1| 59.40887040826527|204.99378331555715|   575100|3.51929631982E-4|0.574506605876068|POLYGON ((1745630...|204.99378331555715|POINT (1745641.05...|1745641.0515000494| 5427715.460075034|    0.0|   inf|POLYGON ((1745630...|\n",
      "| 18|     51378|    Karori|         1| 42.64139712327372|112.74256956733689|   575000|5.06607709467E-4|0.742739255992187|POLYGON ((1746189...|112.74256956733689|POINT (1746196.54...| 1746196.548838236| 5428017.736205868|    0.0|   inf|POLYGON ((1746189...|\n",
      "| 19|      5486|    Karori|         1| 57.61605750006728| 171.5398720846258|   575100|3.51929631982E-4|0.856509848578446|POLYGON ((1745628...| 171.5398720846258|POINT (1745637.54...|1745637.5499494271| 5427730.462948867|    0.0|   inf|POLYGON ((1745628...|\n",
      "+---+----------+----------+----------+------------------+------------------+---------+----------------+-----------------+--------------------+------------------+--------------------+------------------+------------------+-------+------+--------------------+\n",
      "only showing top 20 rows\n",
      "\n"
     ]
    }
   ],
   "source": [
    "alteredDF.createOrReplaceTempView(\"chicago\")\n",
    "\n",
    "alteredDF.show()"
   ]
  },
  {
   "cell_type": "code",
   "execution_count": 202,
   "metadata": {},
   "outputs": [
    {
     "data": {
      "text/plain": [
       "sqlQuery = select * from chicago where st_contains(st_makeBBOX(1740000, 5024148, 1780000, 5627600), centroid)\n",
       "resultDataFrame = [_c0: int, TARGET_FID: int ... 15 more fields]\n"
      ]
     },
     "metadata": {},
     "output_type": "display_data"
    },
    {
     "data": {
      "text/plain": [
       "1758"
      ]
     },
     "execution_count": 202,
     "metadata": {},
     "output_type": "execute_result"
    }
   ],
   "source": [
    "val sqlQuery = \"select * from chicago where st_contains(st_makeBBOX(1740000, 5024148, 1780000, 5627600), centroid)\"\n",
    "val resultDataFrame = spark.sql(sqlQuery)\n",
    "\n",
    "resultDataFrame.count()\n"
   ]
  },
  {
   "cell_type": "code",
   "execution_count": 203,
   "metadata": {},
   "outputs": [
    {
     "data": {
      "text/plain": [
       "target = st_point(1745712.6242292123, 5428008.229451518)\n",
       "sqlQuery = select * from chicago where st_distance(centroid, st_point(1745712.6242292123, 5428008.229451518)) < 50\n",
       "resultDataFrame = [_c0: int, TARGET_FID: int ... 15 more fields]\n"
      ]
     },
     "metadata": {},
     "output_type": "display_data"
    },
    {
     "data": {
      "text/plain": [
       "13"
      ]
     },
     "execution_count": 203,
     "metadata": {},
     "output_type": "execute_result"
    }
   ],
   "source": [
    "val target = \"st_point(1745712.6242292123, 5428008.229451518)\"\n",
    "val sqlQuery = \"select * from chicago where st_distance(centroid, \" + target + \") < 50\" \n",
    "val resultDataFrame = spark.sql(sqlQuery)\n",
    "\n",
    "resultDataFrame.count()"
   ]
  },
  {
   "cell_type": "code",
   "execution_count": 204,
   "metadata": {},
   "outputs": [
    {
     "data": {
      "text/plain": [
       "centers = Array([0,POINT (1745708.7626952266 5428056.083294064)], [1,POINT (1745652.532815956 5427740.363518546)], [2,POINT (1746195.0530502293 5427985.734522967)], [3,POINT (1745684.194342308 5427602.138345038)], [4,POINT (1745710.3367916616 5428035.235370561)], [5,POINT (1745683.391792311 5427616.884848187)], [6,POINT (1746186.8411587114 5427996.4278080575)], [7,POINT (1745686.4744348666 5427642.380608064)], [8,POINT (1745746.7946155705 5428051.458894832)], [9,POINT (1745660.6090637182 5427659.866465285)], [10,POINT (1746192.041525405 5428031.042856979)], [11,POINT (1745658.1230854467 5427674.307006127)], [12,POINT (1745748.6495584282 5428021.350783869)], [13,POINT (1745651.810717597 5427686.945492816)], [14,POINT (1746176.211299909 5428002.246484985)]...\n"
      ]
     },
     "metadata": {},
     "output_type": "display_data"
    },
    {
     "data": {
      "text/plain": [
       "Array([0,POINT (1745708.7626952266 5428056.083294064)], [1,POINT (1745652.532815956 5427740.363518546)], [2,POINT (1746195.0530502293 5427985.734522967)], [3,POINT (1745684.194342308 5427602.138345038)], [4,POINT (1745710.3367916616 5428035.235370561)], [5,POINT (1745683.391792311 5427616.884848187)], [6,POINT (1746186.8411587114 5427996.4278080575)], [7,POINT (1745686.4744348666 5427642.380608064)], [8,POINT (1745746.7946155705 5428051.458894832)], [9,POINT (1745660.6090637182 5427659.866465285)], [10,POINT (1746192.041525405 5428031.042856979)], [11,POINT (1745658.1230854467 5427674.307006127)], [12,POINT (1745748.6495584282 5428021.350783869)], [13,POINT (1745651.810717597 5427686.945492816)], [14,POINT (1746176.211299909 5428002.246484985)]..."
      ]
     },
     "execution_count": 204,
     "metadata": {},
     "output_type": "execute_result"
    }
   ],
   "source": [
    "val centers = alteredDF.select(\"_c0\", \"centroid\").collect()"
   ]
  },
  {
   "cell_type": "code",
   "execution_count": 126,
   "metadata": {},
   "outputs": [
    {
     "data": {
      "text/plain": [
       "n = [value: int]\n"
      ]
     },
     "metadata": {},
     "output_type": "display_data"
    },
    {
     "data": {
      "text/plain": [
       "[value: int]"
      ]
     },
     "execution_count": 126,
     "metadata": {},
     "output_type": "execute_result"
    }
   ],
   "source": [
    "val n = alteredDF.map(x => mymap(x))"
   ]
  },
  {
   "cell_type": "code",
   "execution_count": 149,
   "metadata": {},
   "outputs": [
    {
     "data": {
      "text/plain": [
       "Array([0,1745708.7626952266,5428056.083294064], [1,1745652.532815956,5427740.363518546])"
      ]
     },
     "execution_count": 149,
     "metadata": {},
     "output_type": "execute_result"
    }
   ],
   "source": [
    "alteredDF.select(\"_c0\",\"X\",\"Y\").take(2"
   ]
  },
  {
   "cell_type": "code",
   "execution_count": 152,
   "metadata": {},
   "outputs": [
    {
     "data": {
      "text/plain": [
       "adf3 = [_c0: int, TARGET_FID: int ... 15 more fields]\n"
      ]
     },
     "metadata": {},
     "output_type": "display_data"
    },
    {
     "data": {
      "text/plain": [
       "[_c0: int, TARGET_FID: int ... 15 more fields]"
      ]
     },
     "execution_count": 152,
     "metadata": {},
     "output_type": "execute_result"
    }
   ],
   "source": [
    "val adf3 = alteredDF.filter(\"_c0 < 3\")"
   ]
  },
  {
   "cell_type": "code",
   "execution_count": 222,
   "metadata": {},
   "outputs": [
    {
     "data": {
      "text/plain": [
       "mymap: (x: org.apache.spark.sql.Row)Double\n",
       "mymap2: (x: org.apache.spark.sql.Row)org.apache.spark.sql.Row\n"
      ]
     },
     "metadata": {},
     "output_type": "display_data"
    }
   ],
   "source": [
    "import org.apache.spark.sql._\n",
    "// import spark.implicits._ \n",
    "def mymap(x: Row): Double = { \n",
    "//     println(x)\n",
    "    return x.getDouble(12)\n",
    "}\n",
    "\n",
    "def mymap2(x: Row): Row = { \n",
    "//     println(x)\n",
    "    return Row(x.getInt(0))\n",
    "}\n"
   ]
  },
  {
   "cell_type": "code",
   "execution_count": 223,
   "metadata": {},
   "outputs": [
    {
     "data": {
      "text/plain": [
       "Name: Unknown Error\n",
       "Message: <console>:82: error: Unable to find encoder for type org.apache.spark.sql.Row. An implicit Encoder[org.apache.spark.sql.Row] is needed to store org.apache.spark.sql.Row instances in a Dataset. Primitive types (Int, String, etc) and Product types (case classes) are supported by importing spark.implicits._  Support for serializing other types will be added in future releases.\n",
       "       var res = adf3.map(x => mymap2(x))\n",
       "                         ^\n",
       "\n",
       "StackTrace: "
      ]
     },
     "execution_count": 223,
     "metadata": {},
     "output_type": "execute_result"
    }
   ],
   "source": [
    "var res = adf3.map(x => mymap2(x))"
   ]
  },
  {
   "cell_type": "code",
   "execution_count": 220,
   "metadata": {},
   "outputs": [
    {
     "data": {
      "text/plain": [
       "Array(1745708.7626952266, 1745652.532815956, 1746195.0530502293)"
      ]
     },
     "execution_count": 220,
     "metadata": {},
     "output_type": "execute_result"
    }
   ],
   "source": [
    "res.take(3)"
   ]
  },
  {
   "cell_type": "code",
   "execution_count": 19,
   "metadata": {},
   "outputs": [
    {
     "data": {
      "text/plain": [
       "lastException = null\n"
      ]
     },
     "metadata": {},
     "output_type": "display_data"
    },
    {
     "data": {
      "text/plain": [
       "Name: java.lang.NullPointerException\n",
       "Message: null\n",
       "StackTrace: "
      ]
     },
     "execution_count": 19,
     "metadata": {},
     "output_type": "execute_result"
    }
   ],
   "source": [
    "val filename = \"/home/jovyan/DEMO/gdf_poly_1200.csv\"\n",
    "val dataFile = this.getClass.getClassLoader.getResource(filename).getPath\n",
    "\n",
    "// val df = spark.read\n",
    "//    .schema(schema)\n",
    "//    .option(\"timestampFormat\", \"yyyy/MM/dd HH:mm:ss ZZ\")\n",
    "//    .csv(dataFile)\n",
    "\n",
    "\n",
    "//    .option(\"sep\", \"-\")\n",
    "// val alteredDF = df\n",
    "//   .withColumn(\"polygon\", st_polygonFromText($\"polygonText\"))\n",
    "  \n"
   ]
  },
  {
   "cell_type": "code",
   "execution_count": null,
   "metadata": {},
   "outputs": [],
   "source": []
  }
 ],
 "metadata": {
  "kernelspec": {
   "display_name": "GeoMesa Spark  - Scala",
   "language": "scala",
   "name": "geomesa_spark__scala"
  },
  "language_info": {
   "codemirror_mode": "text/x-scala",
   "file_extension": ".scala",
   "mimetype": "text/x-scala",
   "name": "scala",
   "pygments_lexer": "scala",
   "version": "2.11.12"
  }
 },
 "nbformat": 4,
 "nbformat_minor": 4
}
